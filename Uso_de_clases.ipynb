{
  "nbformat": 4,
  "nbformat_minor": 0,
  "metadata": {
    "colab": {
      "provenance": []
    },
    "kernelspec": {
      "name": "python3",
      "display_name": "Python 3"
    },
    "language_info": {
      "name": "python"
    }
  },
  "cells": [
    {
      "cell_type": "markdown",
      "source": [
        "## Uso de clases, herencias y poliformismos"
      ],
      "metadata": {
        "id": "vLeyTPKRQYzK"
      }
    },
    {
      "cell_type": "code",
      "execution_count": 3,
      "metadata": {
        "id": "_YGTGpW3QXbW"
      },
      "outputs": [],
      "source": [
        "from math import pi, e"
      ]
    },
    {
      "cell_type": "code",
      "source": [
        "pi, e"
      ],
      "metadata": {
        "colab": {
          "base_uri": "https://localhost:8080/"
        },
        "id": "TUdnlyOdQ9po",
        "outputId": "fea2d30c-546b-4448-d1ab-c774a8357ac3"
      },
      "execution_count": 4,
      "outputs": [
        {
          "output_type": "execute_result",
          "data": {
            "text/plain": [
              "(3.141592653589793, 2.718281828459045)"
            ]
          },
          "metadata": {},
          "execution_count": 4
        }
      ]
    },
    {
      "cell_type": "code",
      "source": [
        "# Clase madre\n",
        "class Figura:\n",
        "  def __init__(self):\n",
        "    pass\n",
        "\n",
        "  def area(self):\n",
        "    return 0\n",
        "\n",
        "  def permimetro(self):\n",
        "    return 0\n",
        "# Crear clase heredada\n",
        "class Cuadrado(Figura):\n",
        "  def __init__(self, lado):\n",
        "      self.lado = lado\n",
        " # Metodos sobrecargados\n",
        "  def area(self):\n",
        "     return self.lado**2\n",
        "\n",
        "  def perimetro(self):\n",
        "     return self.lado*4\n",
        "\n",
        "class Circulo(Figura):\n",
        "  def __init__(self, radio):\n",
        "    self.radio = radio\n",
        "  def area(self):\n",
        "    return pi*self.radio**2\n",
        "\n",
        "  def perimetro(self):\n",
        "    return 2*pi*self.radio\n",
        "class Triangulo(Figura):\n",
        "  def __init__(self, base, altura):\n",
        "    self.base = base\n",
        "    self.altura = altura\n",
        "# Estamos sobreescribiendo el metodo de la clase madre\n",
        "  def area(self):\n",
        "    return (self.base*self.altura)/2\n",
        "\n",
        "  def perimetro(self):\n",
        "    c = (self.base**2 + self.altura**2)**0.5\n",
        "    return self.base + self.altura + c"
      ],
      "metadata": {
        "id": "J2y8y-SbRARZ"
      },
      "execution_count": 37,
      "outputs": []
    },
    {
      "cell_type": "code",
      "source": [
        "figura = Figura()\n",
        "figura.area()"
      ],
      "metadata": {
        "colab": {
          "base_uri": "https://localhost:8080/"
        },
        "id": "PRX3DF-CSIKz",
        "outputId": "7cf3f913-da65-41ce-eae5-6a0af90d8a8b"
      },
      "execution_count": 38,
      "outputs": [
        {
          "output_type": "execute_result",
          "data": {
            "text/plain": [
              "0"
            ]
          },
          "metadata": {},
          "execution_count": 38
        }
      ]
    },
    {
      "cell_type": "code",
      "source": [
        "Cuadrado(2).area()"
      ],
      "metadata": {
        "colab": {
          "base_uri": "https://localhost:8080/"
        },
        "id": "GlbEnNTpSMVG",
        "outputId": "856db573-2121-41c3-db6a-b6ddb8e58fea"
      },
      "execution_count": 22,
      "outputs": [
        {
          "output_type": "execute_result",
          "data": {
            "text/plain": [
              "4"
            ]
          },
          "metadata": {},
          "execution_count": 22
        }
      ]
    },
    {
      "cell_type": "code",
      "source": [
        "Circulo(1).area()"
      ],
      "metadata": {
        "colab": {
          "base_uri": "https://localhost:8080/"
        },
        "id": "x9_I5fleUvy4",
        "outputId": "0d00cf6b-b17a-417f-d25f-d84edcb8be5e"
      },
      "execution_count": 24,
      "outputs": [
        {
          "output_type": "execute_result",
          "data": {
            "text/plain": [
              "3.141592653589793"
            ]
          },
          "metadata": {},
          "execution_count": 24
        }
      ]
    },
    {
      "cell_type": "code",
      "source": [
        "Circulo(2).perimetro()"
      ],
      "metadata": {
        "colab": {
          "base_uri": "https://localhost:8080/"
        },
        "id": "SWuvJfvVV9LX",
        "outputId": "e6e6101d-2abe-428b-a8e6-f117b03d5837"
      },
      "execution_count": 31,
      "outputs": [
        {
          "output_type": "execute_result",
          "data": {
            "text/plain": [
              "12.566370614359172"
            ]
          },
          "metadata": {},
          "execution_count": 31
        }
      ]
    },
    {
      "cell_type": "code",
      "source": [
        "Triangulo(2,3).area()"
      ],
      "metadata": {
        "colab": {
          "base_uri": "https://localhost:8080/"
        },
        "id": "-fytEL_kWQ8M",
        "outputId": "d638ff97-14d7-46c0-f589-2bc89118c66b"
      },
      "execution_count": 34,
      "outputs": [
        {
          "output_type": "execute_result",
          "data": {
            "text/plain": [
              "3.0"
            ]
          },
          "metadata": {},
          "execution_count": 34
        }
      ]
    },
    {
      "cell_type": "code",
      "source": [
        "Triangulo(2,3).area(), Triangulo(2,3).perimetro()"
      ],
      "metadata": {
        "colab": {
          "base_uri": "https://localhost:8080/"
        },
        "id": "RZu19KdpZdI_",
        "outputId": "9be8c618-a61b-4e27-c7f3-8ab885286d7b"
      },
      "execution_count": 39,
      "outputs": [
        {
          "output_type": "execute_result",
          "data": {
            "text/plain": [
              "(3.0, 8.60555127546399)"
            ]
          },
          "metadata": {},
          "execution_count": 39
        }
      ]
    },
    {
      "cell_type": "code",
      "source": [
        "L = [Cuadrado(2), Circulo(3), Triangulo(2,3)]\n",
        "\n",
        "for f in L:\n",
        "  print(f\"El area del {f.__class__.__name__} es {f.area()}\")"
      ],
      "metadata": {
        "colab": {
          "base_uri": "https://localhost:8080/"
        },
        "id": "zEaoJW5CaCEy",
        "outputId": "13b9e3bb-fbb8-43dd-e2a1-c5b4559f47d0"
      },
      "execution_count": 41,
      "outputs": [
        {
          "output_type": "stream",
          "name": "stdout",
          "text": [
            "El area del Cuadrado es 4\n",
            "El area del Circulo es 28.274333882308138\n",
            "El area del Triangulo es 3.0\n"
          ]
        }
      ]
    },
    {
      "cell_type": "code",
      "source": [
        "for f in L:\n",
        "  print(f\"El perimetro del {f.__class__.__name__} es {f.perimetro()}\")"
      ],
      "metadata": {
        "colab": {
          "base_uri": "https://localhost:8080/"
        },
        "id": "SLRLKgQibQIz",
        "outputId": "0e33b3b0-b2e2-4c7e-a5ba-0a696b546677"
      },
      "execution_count": 42,
      "outputs": [
        {
          "output_type": "stream",
          "name": "stdout",
          "text": [
            "El perimetro del Cuadrado es 8\n",
            "El perimetro del Circulo es 18.84955592153876\n",
            "El perimetro del Triangulo es 8.60555127546399\n"
          ]
        }
      ]
    },
    {
      "cell_type": "code",
      "source": [],
      "metadata": {
        "id": "29mlHXCMb-zI"
      },
      "execution_count": null,
      "outputs": []
    }
  ]
}